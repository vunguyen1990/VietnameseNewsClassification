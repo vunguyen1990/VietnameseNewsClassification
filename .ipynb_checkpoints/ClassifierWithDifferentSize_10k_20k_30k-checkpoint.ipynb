{
 "cells": [
  {
   "cell_type": "code",
   "execution_count": 1,
   "metadata": {
    "collapsed": true
   },
   "outputs": [],
   "source": [
    "import LogicalRegression\n",
    "import pandas as pd\n",
    "import os"
   ]
  },
  {
   "cell_type": "code",
   "execution_count": 2,
   "metadata": {},
   "outputs": [],
   "source": [
    "dir_path = os.path.join(os.getcwd(), 'vnexpress')\n",
    "data = list()\n",
    "for directory in os.listdir(dir_path):\n",
    "#     print(directory)\n",
    "    if '.' not in directory:\n",
    "        list_file_path = os.path.join(dir_path, directory)\n",
    "        count = 0\n",
    "        for file_name in os.listdir(list_file_path):\n",
    "            data_dict = dict()\n",
    "            data_dict['category'] = directory\n",
    "            file_path = os.path.join(list_file_path, file_name)\n",
    "            file = open(file_path,'r')\n",
    "            data_dict['data'] = file.read()\n",
    "            data.append(data_dict)\n",
    "data_df = pd.DataFrame(data)"
   ]
  },
  {
   "cell_type": "code",
   "execution_count": 3,
   "metadata": {},
   "outputs": [
    {
     "name": "stdout",
     "output_type": "stream",
     "text": [
      "training:700 -  testing: 300 \n",
      "\n",
      "tf-idf learning time: 0.256397008895874\n",
      "feature extraction time of training and testing dataset: 0.3213770389556885\n",
      "training (700, 16442)\n",
      "testing (300, 16442)\n",
      "Logistic Regression time: 0.31166601181030273\n",
      "testing time: 0.013829946517944336\n",
      "             precision    recall  f1-score   support\n",
      "\n",
      "     dulich       0.86      0.92      0.89        26\n",
      "    giaitri       0.96      0.90      0.93        30\n",
      "    giaoduc       0.88      0.96      0.92        23\n",
      "    khoahoc       0.89      0.86      0.88        29\n",
      "  kinhdoanh       0.84      0.87      0.85        30\n",
      "   otoxemay       0.92      0.96      0.94        24\n",
      "   phapluat       0.81      0.89      0.85        28\n",
      "      sohoa       0.94      0.80      0.86        20\n",
      "    thegioi       0.91      0.81      0.86        26\n",
      "    thethao       0.95      1.00      0.97        37\n",
      "     thoisu       0.88      0.81      0.85        27\n",
      "\n",
      "avg / total       0.90      0.89      0.89       300\n",
      "\n"
     ]
    }
   ],
   "source": [
    "result = LogicalRegression.logistic_regression(1000,data_df)"
   ]
  },
  {
   "cell_type": "code",
   "execution_count": 4,
   "metadata": {},
   "outputs": [
    {
     "name": "stdout",
     "output_type": "stream",
     "text": [
      "training:7000 -  testing: 3000 \n",
      "\n",
      "tf-idf learning time: 2.3468868732452393\n",
      "feature extraction time of training and testing dataset: 3.2648398876190186\n",
      "training (7000, 56107)\n",
      "testing (3000, 56107)\n",
      "Logistic Regression time: 5.4447081089019775\n",
      "testing time: 1.1002209186553955\n",
      "             precision    recall  f1-score   support\n",
      "\n",
      "     dulich       0.94      0.93      0.93       245\n",
      "    giaitri       0.96      0.99      0.98       279\n",
      "    giaoduc       0.96      0.96      0.96       255\n",
      "    khoahoc       0.94      0.96      0.95       297\n",
      "  kinhdoanh       0.95      0.93      0.94       332\n",
      "   otoxemay       0.97      0.98      0.98       270\n",
      "   phapluat       0.95      0.94      0.95       266\n",
      "      sohoa       0.95      0.93      0.94       219\n",
      "    thegioi       0.94      0.94      0.94       283\n",
      "    thethao       0.99      0.99      0.99       304\n",
      "     thoisu       0.88      0.89      0.89       250\n",
      "\n",
      "avg / total       0.95      0.95      0.95      3000\n",
      "\n"
     ]
    }
   ],
   "source": [
    "result = LogicalRegression.logistic_regression(10000,data_df)"
   ]
  },
  {
   "cell_type": "code",
   "execution_count": 5,
   "metadata": {},
   "outputs": [
    {
     "name": "stdout",
     "output_type": "stream",
     "text": [
      "training:14000 -  testing: 6000 \n",
      "\n",
      "tf-idf learning time: 5.29866099357605\n",
      "feature extraction time of training and testing dataset: 6.675487995147705\n",
      "training (14000, 83537)\n",
      "testing (6000, 83537)\n",
      "Logistic Regression time: 24.782423973083496\n",
      "testing time: 5.542818069458008\n",
      "             precision    recall  f1-score   support\n",
      "\n",
      "     dulich       0.94      0.96      0.95       510\n",
      "    giaitri       0.98      0.99      0.99       596\n",
      "    giaoduc       0.95      0.97      0.96       533\n",
      "    khoahoc       0.93      0.95      0.94       518\n",
      "  kinhdoanh       0.96      0.93      0.94       573\n",
      "   otoxemay       0.97      0.98      0.97       529\n",
      "   phapluat       0.96      0.95      0.96       603\n",
      "      sohoa       0.97      0.95      0.96       496\n",
      "    thegioi       0.95      0.95      0.95       531\n",
      "    thethao       0.99      0.99      0.99       590\n",
      "     thoisu       0.89      0.88      0.88       521\n",
      "\n",
      "avg / total       0.95      0.95      0.95      6000\n",
      "\n"
     ]
    }
   ],
   "source": [
    "result = LogicalRegression.logistic_regression(20000,data_df)"
   ]
  },
  {
   "cell_type": "code",
   "execution_count": 6,
   "metadata": {},
   "outputs": [
    {
     "name": "stdout",
     "output_type": "stream",
     "text": [
      "training:21000 -  testing: 9000 \n",
      "\n",
      "tf-idf learning time: 6.819462060928345\n",
      "feature extraction time of training and testing dataset: 9.911319971084595\n",
      "training (21000, 104951)\n",
      "testing (9000, 104951)\n",
      "Logistic Regression time: 45.17261600494385\n",
      "testing time: 12.35978889465332\n",
      "             precision    recall  f1-score   support\n",
      "\n",
      "     dulich       0.94      0.95      0.94       799\n",
      "    giaitri       0.98      0.99      0.98       811\n",
      "    giaoduc       0.95      0.95      0.95       808\n",
      "    khoahoc       0.95      0.95      0.95       850\n",
      "  kinhdoanh       0.95      0.93      0.94       854\n",
      "   otoxemay       0.98      0.98      0.98       786\n",
      "   phapluat       0.95      0.96      0.95       864\n",
      "      sohoa       0.97      0.97      0.97       777\n",
      "    thegioi       0.95      0.95      0.95       845\n",
      "    thethao       0.99      0.99      0.99       811\n",
      "     thoisu       0.90      0.90      0.90       795\n",
      "\n",
      "avg / total       0.96      0.96      0.96      9000\n",
      "\n"
     ]
    }
   ],
   "source": [
    "result = LogicalRegression.logistic_regression(30000,data_df)"
   ]
  }
 ],
 "metadata": {
  "kernelspec": {
   "display_name": "Python 3",
   "language": "python",
   "name": "python3"
  },
  "language_info": {
   "codemirror_mode": {
    "name": "ipython",
    "version": 3
   },
   "file_extension": ".py",
   "mimetype": "text/x-python",
   "name": "python",
   "nbconvert_exporter": "python",
   "pygments_lexer": "ipython3",
   "version": "3.5.2"
  }
 },
 "nbformat": 4,
 "nbformat_minor": 1
}
