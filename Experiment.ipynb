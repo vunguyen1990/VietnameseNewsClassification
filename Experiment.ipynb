{
 "cells": [
  {
   "cell_type": "code",
   "execution_count": 1,
   "metadata": {
    "collapsed": true
   },
   "outputs": [],
   "source": [
    "import os\n",
    "import pandas as pd\n",
    "from sklearn.feature_extraction.text import TfidfVectorizer\n",
    "import random\n",
    "from sklearn import linear_model\n",
    "from time import time\n",
    "from sklearn.model_selection import train_test_split\n",
    "from sklearn.metrics import confusion_matrix"
   ]
  },
  {
   "cell_type": "code",
   "execution_count": 2,
   "metadata": {
    "collapsed": true
   },
   "outputs": [],
   "source": [
    "def word_count(txt):\n",
    "    distinguish_word = \"\"\n",
    "    totel_count = 0\n",
    "    distinguish_count = 0\n",
    "    for word in txt:\n",
    "        totel_count = totel_count + 1\n",
    "        if word not in distinguish_word:\n",
    "            distinguish_word = distinguish_word + ' ' + word\n",
    "            distinguish_count = distinguish_count +1\n",
    "    return totel_count"
   ]
  },
  {
   "cell_type": "code",
   "execution_count": 3,
   "metadata": {
    "collapsed": true
   },
   "outputs": [],
   "source": [
    "def diff_word_count(txt):\n",
    "    distinguish_word = \"\"\n",
    "    totel_count = 0\n",
    "    distinguish_count = 0\n",
    "    for word in txt:\n",
    "        totel_count = totel_count + 1\n",
    "        if word not in distinguish_word:\n",
    "            distinguish_word = distinguish_word + ' ' + word\n",
    "            distinguish_count = distinguish_count +1\n",
    "    return distinguish_count"
   ]
  },
  {
   "cell_type": "markdown",
   "metadata": {},
   "source": [
    "# I - Loading data"
   ]
  },
  {
   "cell_type": "markdown",
   "metadata": {},
   "source": [
    "## 1 - Get categories of text"
   ]
  },
  {
   "cell_type": "code",
   "execution_count": 4,
   "metadata": {
    "collapsed": false
   },
   "outputs": [],
   "source": [
    "dir_path = os.path.join(os.getcwd(), 'vnexpress')\n",
    "categories = list()\n",
    "\n",
    "data = list()\n",
    "for directory in os.listdir(dir_path):\n",
    "#     print(directory)\n",
    "    if '.' not in directory:\n",
    "        list_file_path = os.path.join(dir_path, directory)\n",
    "        count = 0\n",
    "        for file_name in os.listdir(list_file_path):\n",
    "            data_dict = dict()\n",
    "            data_dict['file_name'] = file_name\n",
    "            data_dict['category'] = directory\n",
    "            file_path = os.path.join(list_file_path, file_name)\n",
    "            file = open(file_path,'r')\n",
    "            data_dict['data'] = file.read()\n",
    "            data.append(data_dict)"
   ]
  },
  {
   "cell_type": "code",
   "execution_count": 5,
   "metadata": {
    "collapsed": true
   },
   "outputs": [],
   "source": [
    "data_df = pd.DataFrame(data)\n",
    "data_df['distinguish_word'] = data_df.data.apply(lambda row:diff_word_count(row))\n",
    "data_df['total_count'] = data_df.data.apply(lambda row:word_count(row))"
   ]
  },
  {
   "cell_type": "markdown",
   "metadata": {},
   "source": [
    "## sample 10000 items to training and testing"
   ]
  },
  {
   "cell_type": "code",
   "execution_count": 6,
   "metadata": {
    "collapsed": false
   },
   "outputs": [],
   "source": [
    "# sample_df = data_df.sample(10000)\n",
    "sample_df = data_df\n",
    "train, test = train_test_split(sample_df, test_size = 0.3)"
   ]
  },
  {
   "cell_type": "code",
   "execution_count": 7,
   "metadata": {
    "collapsed": true
   },
   "outputs": [],
   "source": [
    "training_data = train.data\n",
    "training_label = train.category\n",
    "testing_data = test.data\n",
    "testing_label = test.category"
   ]
  },
  {
   "cell_type": "code",
   "execution_count": 8,
   "metadata": {
    "collapsed": false
   },
   "outputs": [
    {
     "data": {
      "text/plain": [
       "33240"
      ]
     },
     "execution_count": 8,
     "metadata": {},
     "output_type": "execute_result"
    }
   ],
   "source": [
    "len(training_data)"
   ]
  },
  {
   "cell_type": "markdown",
   "metadata": {},
   "source": [
    "## Fitting tf-idf model"
   ]
  },
  {
   "cell_type": "code",
   "execution_count": 9,
   "metadata": {
    "collapsed": false
   },
   "outputs": [
    {
     "name": "stdout",
     "output_type": "stream",
     "text": [
      "tf-idf learning time: 10.34434199333191\n"
     ]
    }
   ],
   "source": [
    "t0 = time()\n",
    "vectorizer = TfidfVectorizer(sublinear_tf=True, max_df=0.5)\n",
    "vectorizer.fit(training_data)\n",
    "print(\"tf-idf learning time:\", time() - t0)"
   ]
  },
  {
   "cell_type": "code",
   "execution_count": 10,
   "metadata": {
    "collapsed": false
   },
   "outputs": [
    {
     "data": {
      "text/plain": [
       "TfidfVectorizer(analyzer='word', binary=False, decode_error='strict',\n",
       "        dtype=<class 'numpy.int64'>, encoding='utf-8', input='content',\n",
       "        lowercase=True, max_df=0.5, max_features=None, min_df=1,\n",
       "        ngram_range=(1, 1), norm='l2', preprocessor=None, smooth_idf=True,\n",
       "        stop_words=None, strip_accents=None, sublinear_tf=True,\n",
       "        token_pattern='(?u)\\\\b\\\\w\\\\w+\\\\b', tokenizer=None, use_idf=True,\n",
       "        vocabulary=None)"
      ]
     },
     "execution_count": 10,
     "metadata": {},
     "output_type": "execute_result"
    }
   ],
   "source": [
    "vectorizer"
   ]
  },
  {
   "cell_type": "markdown",
   "metadata": {},
   "source": [
    "## Extracting features for training and testing data"
   ]
  },
  {
   "cell_type": "code",
   "execution_count": 11,
   "metadata": {
    "collapsed": false
   },
   "outputs": [
    {
     "name": "stdout",
     "output_type": "stream",
     "text": [
      "feature extraction time of training and testing dataset: 17.334089040756226\n"
     ]
    }
   ],
   "source": [
    "t0 = time()\n",
    "training_matrix = vectorizer.transform(training_data)\n",
    "testing_matrix = vectorizer.transform(testing_data)\n",
    "print(\"feature extraction time of training and testing dataset:\", time() - t0)"
   ]
  },
  {
   "cell_type": "code",
   "execution_count": 12,
   "metadata": {
    "collapsed": false
   },
   "outputs": [
    {
     "name": "stdout",
     "output_type": "stream",
     "text": [
      "training (33240, 137287)\n",
      "testing (14247, 137287)\n"
     ]
    }
   ],
   "source": [
    "print('training',training_matrix.shape)\n",
    "print('testing',testing_matrix.shape)"
   ]
  },
  {
   "cell_type": "markdown",
   "metadata": {},
   "source": [
    "## Classification by Logistic Regression of Scikit Learn"
   ]
  },
  {
   "cell_type": "code",
   "execution_count": 13,
   "metadata": {
    "collapsed": false
   },
   "outputs": [
    {
     "name": "stderr",
     "output_type": "stream",
     "text": [
      "/Users/vunguyen/anaconda/lib/python3.5/site-packages/sklearn/linear_model/sag.py:286: ConvergenceWarning: The max_iter was reached which means the coef_ did not converge\n",
      "  \"the coef_ did not converge\", ConvergenceWarning)\n"
     ]
    },
    {
     "name": "stdout",
     "output_type": "stream",
     "text": [
      "Logistic Regression time: 115.61367607116699\n"
     ]
    }
   ],
   "source": [
    "t0 = time()\n",
    "logreg = linear_model.LogisticRegression(solver = 'sag',C=1e5)\n",
    "logreg.fit(training_matrix,training_label)\n",
    "print('Logistic Regression time:',time()-t0)"
   ]
  },
  {
   "cell_type": "code",
   "execution_count": 14,
   "metadata": {
    "collapsed": false
   },
   "outputs": [
    {
     "name": "stdout",
     "output_type": "stream",
     "text": [
      "testing time: 0.0807960033416748\n"
     ]
    }
   ],
   "source": [
    "t0 = time()\n",
    "predicted_result = logreg.predict(testing_matrix)\n",
    "print(\"testing time:\", time()-t0)"
   ]
  },
  {
   "cell_type": "code",
   "execution_count": 15,
   "metadata": {
    "collapsed": false
   },
   "outputs": [
    {
     "name": "stderr",
     "output_type": "stream",
     "text": [
      "/Users/vunguyen/anaconda/lib/python3.5/site-packages/ipykernel/__main__.py:1: SettingWithCopyWarning: \n",
      "A value is trying to be set on a copy of a slice from a DataFrame.\n",
      "Try using .loc[row_indexer,col_indexer] = value instead\n",
      "\n",
      "See the caveats in the documentation: http://pandas.pydata.org/pandas-docs/stable/indexing.html#indexing-view-versus-copy\n",
      "  if __name__ == '__main__':\n"
     ]
    }
   ],
   "source": [
    "test['predicted'] = predicted_result"
   ]
  },
  {
   "cell_type": "code",
   "execution_count": 16,
   "metadata": {
    "collapsed": false
   },
   "outputs": [],
   "source": [
    "def check_result(actual,predict):\n",
    "    return predict==actual"
   ]
  },
  {
   "cell_type": "code",
   "execution_count": 17,
   "metadata": {
    "collapsed": false
   },
   "outputs": [
    {
     "name": "stderr",
     "output_type": "stream",
     "text": [
      "/Users/vunguyen/anaconda/lib/python3.5/site-packages/ipykernel/__main__.py:1: SettingWithCopyWarning: \n",
      "A value is trying to be set on a copy of a slice from a DataFrame.\n",
      "Try using .loc[row_indexer,col_indexer] = value instead\n",
      "\n",
      "See the caveats in the documentation: http://pandas.pydata.org/pandas-docs/stable/indexing.html#indexing-view-versus-copy\n",
      "  if __name__ == '__main__':\n"
     ]
    }
   ],
   "source": [
    "test['eval'] = test.apply(lambda row:check_result(row['category'],row['predicted']),axis=1)"
   ]
  },
  {
   "cell_type": "code",
   "execution_count": 18,
   "metadata": {
    "collapsed": false
   },
   "outputs": [],
   "source": [
    "result = test.loc[test['eval']==False]"
   ]
  },
  {
   "cell_type": "code",
   "execution_count": 19,
   "metadata": {
    "collapsed": false
   },
   "outputs": [
    {
     "data": {
      "image/png": "[encoded data removed]",
      "text/plain": [
       "<matplotlib.figure.Figure at 0x10eb07b38>"
      ]
     },
     "metadata": {},
     "output_type": "display_data"
    }
   ],
   "source": [
    "import matplotlib.pyplot as plt\n",
    "plt.hist(result['total_count'], bins ='auto')  # plt.hist passes it's arguments to np.histogram\n",
    "plt.show()"
   ]
  },
  {
   "cell_type": "code",
   "execution_count": 18,
   "metadata": {
    "collapsed": false
   },
   "outputs": [
    {
     "name": "stdout",
     "output_type": "stream",
     "text": [
      "             precision    recall  f1-score   support\n",
      "\n",
      "     dulich       0.95      0.96      0.96      1164\n",
      "    giaitri       0.98      0.99      0.98      1335\n",
      "    giaoduc       0.95      0.96      0.96      1312\n",
      "    khoahoc       0.96      0.95      0.95      1350\n",
      "  kinhdoanh       0.94      0.95      0.95      1353\n",
      "   otoxemay       0.99      0.98      0.99      1290\n",
      "   phapluat       0.96      0.95      0.96      1347\n",
      "      sohoa       0.97      0.96      0.97      1225\n",
      "    thegioi       0.96      0.97      0.96      1325\n",
      "    thethao       1.00      0.99      0.99      1319\n",
      "     thoisu       0.92      0.91      0.92      1227\n",
      "\n",
      "avg / total       0.96      0.96      0.96     14247\n",
      "\n"
     ]
    }
   ],
   "source": [
    "from sklearn import svm,metrics,model_selection\n",
    "print(metrics.classification_report(testing_label, predicted_result))"
   ]
  },
  {
   "cell_type": "code",
   "execution_count": 21,
   "metadata": {
    "collapsed": false
   },
   "outputs": [
    {
     "data": {
      "text/html": [
       "<div>\n",
       "<table border=\"1\" class=\"dataframe\">\n",
       "  <thead>\n",
       "    <tr style=\"text-align: right;\">\n",
       "      <th>Predicted</th>\n",
       "      <th>dulich</th>\n",
       "      <th>giaitri</th>\n",
       "      <th>giaoduc</th>\n",
       "      <th>khoahoc</th>\n",
       "      <th>kinhdoanh</th>\n",
       "      <th>otoxemay</th>\n",
       "      <th>phapluat</th>\n",
       "      <th>sohoa</th>\n",
       "      <th>thegioi</th>\n",
       "      <th>thethao</th>\n",
       "      <th>thoisu</th>\n",
       "      <th>All</th>\n",
       "    </tr>\n",
       "    <tr>\n",
       "      <th>Actual</th>\n",
       "      <th></th>\n",
       "      <th></th>\n",
       "      <th></th>\n",
       "      <th></th>\n",
       "      <th></th>\n",
       "      <th></th>\n",
       "      <th></th>\n",
       "      <th></th>\n",
       "      <th></th>\n",
       "      <th></th>\n",
       "      <th></th>\n",
       "      <th></th>\n",
       "    </tr>\n",
       "  </thead>\n",
       "  <tbody>\n",
       "    <tr>\n",
       "      <th>dulich</th>\n",
       "      <td>1110</td>\n",
       "      <td>5</td>\n",
       "      <td>8</td>\n",
       "      <td>9</td>\n",
       "      <td>3</td>\n",
       "      <td>2</td>\n",
       "      <td>1</td>\n",
       "      <td>1</td>\n",
       "      <td>6</td>\n",
       "      <td>0</td>\n",
       "      <td>16</td>\n",
       "      <td>1161</td>\n",
       "    </tr>\n",
       "    <tr>\n",
       "      <th>giaitri</th>\n",
       "      <td>3</td>\n",
       "      <td>1352</td>\n",
       "      <td>3</td>\n",
       "      <td>0</td>\n",
       "      <td>0</td>\n",
       "      <td>0</td>\n",
       "      <td>1</td>\n",
       "      <td>0</td>\n",
       "      <td>2</td>\n",
       "      <td>0</td>\n",
       "      <td>3</td>\n",
       "      <td>1364</td>\n",
       "    </tr>\n",
       "    <tr>\n",
       "      <th>giaoduc</th>\n",
       "      <td>4</td>\n",
       "      <td>1</td>\n",
       "      <td>1215</td>\n",
       "      <td>7</td>\n",
       "      <td>6</td>\n",
       "      <td>0</td>\n",
       "      <td>4</td>\n",
       "      <td>11</td>\n",
       "      <td>4</td>\n",
       "      <td>2</td>\n",
       "      <td>11</td>\n",
       "      <td>1265</td>\n",
       "    </tr>\n",
       "    <tr>\n",
       "      <th>khoahoc</th>\n",
       "      <td>7</td>\n",
       "      <td>1</td>\n",
       "      <td>10</td>\n",
       "      <td>1227</td>\n",
       "      <td>4</td>\n",
       "      <td>2</td>\n",
       "      <td>2</td>\n",
       "      <td>2</td>\n",
       "      <td>18</td>\n",
       "      <td>0</td>\n",
       "      <td>7</td>\n",
       "      <td>1280</td>\n",
       "    </tr>\n",
       "    <tr>\n",
       "      <th>kinhdoanh</th>\n",
       "      <td>12</td>\n",
       "      <td>3</td>\n",
       "      <td>7</td>\n",
       "      <td>1</td>\n",
       "      <td>1321</td>\n",
       "      <td>2</td>\n",
       "      <td>7</td>\n",
       "      <td>9</td>\n",
       "      <td>1</td>\n",
       "      <td>1</td>\n",
       "      <td>38</td>\n",
       "      <td>1402</td>\n",
       "    </tr>\n",
       "    <tr>\n",
       "      <th>otoxemay</th>\n",
       "      <td>4</td>\n",
       "      <td>0</td>\n",
       "      <td>2</td>\n",
       "      <td>4</td>\n",
       "      <td>1</td>\n",
       "      <td>1251</td>\n",
       "      <td>5</td>\n",
       "      <td>1</td>\n",
       "      <td>0</td>\n",
       "      <td>1</td>\n",
       "      <td>0</td>\n",
       "      <td>1269</td>\n",
       "    </tr>\n",
       "    <tr>\n",
       "      <th>phapluat</th>\n",
       "      <td>3</td>\n",
       "      <td>1</td>\n",
       "      <td>5</td>\n",
       "      <td>1</td>\n",
       "      <td>5</td>\n",
       "      <td>5</td>\n",
       "      <td>1292</td>\n",
       "      <td>1</td>\n",
       "      <td>1</td>\n",
       "      <td>0</td>\n",
       "      <td>32</td>\n",
       "      <td>1346</td>\n",
       "    </tr>\n",
       "    <tr>\n",
       "      <th>sohoa</th>\n",
       "      <td>5</td>\n",
       "      <td>7</td>\n",
       "      <td>6</td>\n",
       "      <td>10</td>\n",
       "      <td>10</td>\n",
       "      <td>1</td>\n",
       "      <td>0</td>\n",
       "      <td>1152</td>\n",
       "      <td>5</td>\n",
       "      <td>1</td>\n",
       "      <td>0</td>\n",
       "      <td>1197</td>\n",
       "    </tr>\n",
       "    <tr>\n",
       "      <th>thegioi</th>\n",
       "      <td>11</td>\n",
       "      <td>6</td>\n",
       "      <td>5</td>\n",
       "      <td>16</td>\n",
       "      <td>5</td>\n",
       "      <td>3</td>\n",
       "      <td>0</td>\n",
       "      <td>4</td>\n",
       "      <td>1300</td>\n",
       "      <td>1</td>\n",
       "      <td>3</td>\n",
       "      <td>1354</td>\n",
       "    </tr>\n",
       "    <tr>\n",
       "      <th>thethao</th>\n",
       "      <td>2</td>\n",
       "      <td>2</td>\n",
       "      <td>0</td>\n",
       "      <td>0</td>\n",
       "      <td>0</td>\n",
       "      <td>0</td>\n",
       "      <td>1</td>\n",
       "      <td>1</td>\n",
       "      <td>1</td>\n",
       "      <td>1380</td>\n",
       "      <td>1</td>\n",
       "      <td>1388</td>\n",
       "    </tr>\n",
       "    <tr>\n",
       "      <th>thoisu</th>\n",
       "      <td>14</td>\n",
       "      <td>2</td>\n",
       "      <td>12</td>\n",
       "      <td>5</td>\n",
       "      <td>19</td>\n",
       "      <td>1</td>\n",
       "      <td>32</td>\n",
       "      <td>2</td>\n",
       "      <td>2</td>\n",
       "      <td>0</td>\n",
       "      <td>1132</td>\n",
       "      <td>1221</td>\n",
       "    </tr>\n",
       "    <tr>\n",
       "      <th>All</th>\n",
       "      <td>1175</td>\n",
       "      <td>1380</td>\n",
       "      <td>1273</td>\n",
       "      <td>1280</td>\n",
       "      <td>1374</td>\n",
       "      <td>1267</td>\n",
       "      <td>1345</td>\n",
       "      <td>1184</td>\n",
       "      <td>1340</td>\n",
       "      <td>1386</td>\n",
       "      <td>1243</td>\n",
       "      <td>14247</td>\n",
       "    </tr>\n",
       "  </tbody>\n",
       "</table>\n",
       "</div>"
      ],
      "text/plain": [
       "Predicted  dulich  giaitri  giaoduc  khoahoc  kinhdoanh  otoxemay  phapluat  \\\n",
       "Actual                                                                        \n",
       "dulich       1110        5        8        9          3         2         1   \n",
       "giaitri         3     1352        3        0          0         0         1   \n",
       "giaoduc         4        1     1215        7          6         0         4   \n",
       "khoahoc         7        1       10     1227          4         2         2   \n",
       "kinhdoanh      12        3        7        1       1321         2         7   \n",
       "otoxemay        4        0        2        4          1      1251         5   \n",
       "phapluat        3        1        5        1          5         5      1292   \n",
       "sohoa           5        7        6       10         10         1         0   \n",
       "thegioi        11        6        5       16          5         3         0   \n",
       "thethao         2        2        0        0          0         0         1   \n",
       "thoisu         14        2       12        5         19         1        32   \n",
       "All          1175     1380     1273     1280       1374      1267      1345   \n",
       "\n",
       "Predicted  sohoa  thegioi  thethao  thoisu    All  \n",
       "Actual                                             \n",
       "dulich         1        6        0      16   1161  \n",
       "giaitri        0        2        0       3   1364  \n",
       "giaoduc       11        4        2      11   1265  \n",
       "khoahoc        2       18        0       7   1280  \n",
       "kinhdoanh      9        1        1      38   1402  \n",
       "otoxemay       1        0        1       0   1269  \n",
       "phapluat       1        1        0      32   1346  \n",
       "sohoa       1152        5        1       0   1197  \n",
       "thegioi        4     1300        1       3   1354  \n",
       "thethao        1        1     1380       1   1388  \n",
       "thoisu         2        2        0    1132   1221  \n",
       "All         1184     1340     1386    1243  14247  "
      ]
     },
     "execution_count": 21,
     "metadata": {},
     "output_type": "execute_result"
    }
   ],
   "source": [
    "df_confusion = pd.crosstab(testing_label, predicted_result, rownames=['Actual'], colnames=['Predicted'], margins=True)\n",
    "df_confusion"
   ]
  },
  {
   "cell_type": "markdown",
   "metadata": {
    "collapsed": true
   },
   "source": [
    "### Tuning C "
   ]
  },
  {
   "cell_type": "code",
   "execution_count": 22,
   "metadata": {
    "collapsed": false
   },
   "outputs": [
    {
     "name": "stdout",
     "output_type": "stream",
     "text": [
      "{'C': 1000.0}\n"
     ]
    }
   ],
   "source": [
    "from sklearn.model_selection import GridSearchCV\n",
    "parameters = {'C':[1e6,1e5, 1e4,1e3,1e2]}\n",
    "logreg = linear_model.LogisticRegression()\n",
    "grid_search = GridSearchCV(logreg,parameters)\n",
    "grid_search.fit(training_matrix, training_label)\n",
    "paras = grid_search.best_params_\n",
    "print(paras)"
   ]
  },
  {
   "cell_type": "code",
   "execution_count": 23,
   "metadata": {
    "collapsed": false
   },
   "outputs": [
    {
     "name": "stdout",
     "output_type": "stream",
     "text": [
      "             precision    recall  f1-score   support\n",
      "\n",
      "     dulich       0.93      0.93      0.93      1161\n",
      "    giaitri       0.97      0.99      0.98      1364\n",
      "    giaoduc       0.94      0.95      0.95      1265\n",
      "    khoahoc       0.94      0.95      0.94      1280\n",
      "  kinhdoanh       0.93      0.92      0.92      1402\n",
      "   otoxemay       0.97      0.98      0.97      1269\n",
      "   phapluat       0.95      0.95      0.95      1346\n",
      "      sohoa       0.96      0.94      0.95      1197\n",
      "    thegioi       0.95      0.94      0.94      1354\n",
      "    thethao       0.99      0.99      0.99      1388\n",
      "     thoisu       0.89      0.90      0.90      1221\n",
      "\n",
      "avg / total       0.95      0.95      0.95     14247\n",
      "\n",
      "Logistic Regression time: 14.894895076751709\n"
     ]
    }
   ],
   "source": [
    "t0 = time()\n",
    "logreg = linear_model.LogisticRegression(C=1)\n",
    "logreg.fit(training_matrix,training_label)\n",
    "predicted_result = logreg.predict(testing_matrix)\n",
    "print(metrics.classification_report(testing_label, predicted_result))\n",
    "print('Logistic Regression time:',time()-t0)"
   ]
  },
  {
   "cell_type": "code",
   "execution_count": null,
   "metadata": {
    "collapsed": false
   },
   "outputs": [
    {
     "data": {
      "text/html": [
       "<div>\n",
       "<table border=\"1\" class=\"dataframe\">\n",
       "  <thead>\n",
       "    <tr style=\"text-align: right;\">\n",
       "      <th>Predicted</th>\n",
       "      <th>dulich</th>\n",
       "      <th>giaitri</th>\n",
       "      <th>giaoduc</th>\n",
       "      <th>khoahoc</th>\n",
       "      <th>kinhdoanh</th>\n",
       "      <th>otoxemay</th>\n",
       "      <th>phapluat</th>\n",
       "      <th>sohoa</th>\n",
       "      <th>thegioi</th>\n",
       "      <th>thethao</th>\n",
       "      <th>thoisu</th>\n",
       "      <th>All</th>\n",
       "    </tr>\n",
       "    <tr>\n",
       "      <th>Actual</th>\n",
       "      <th></th>\n",
       "      <th></th>\n",
       "      <th></th>\n",
       "      <th></th>\n",
       "      <th></th>\n",
       "      <th></th>\n",
       "      <th></th>\n",
       "      <th></th>\n",
       "      <th></th>\n",
       "      <th></th>\n",
       "      <th></th>\n",
       "      <th></th>\n",
       "    </tr>\n",
       "  </thead>\n",
       "  <tbody>\n",
       "    <tr>\n",
       "      <th>dulich</th>\n",
       "      <td>1084</td>\n",
       "      <td>8</td>\n",
       "      <td>13</td>\n",
       "      <td>17</td>\n",
       "      <td>7</td>\n",
       "      <td>3</td>\n",
       "      <td>4</td>\n",
       "      <td>1</td>\n",
       "      <td>9</td>\n",
       "      <td>1</td>\n",
       "      <td>14</td>\n",
       "      <td>1161</td>\n",
       "    </tr>\n",
       "    <tr>\n",
       "      <th>giaitri</th>\n",
       "      <td>3</td>\n",
       "      <td>1345</td>\n",
       "      <td>4</td>\n",
       "      <td>1</td>\n",
       "      <td>2</td>\n",
       "      <td>0</td>\n",
       "      <td>1</td>\n",
       "      <td>0</td>\n",
       "      <td>4</td>\n",
       "      <td>1</td>\n",
       "      <td>3</td>\n",
       "      <td>1364</td>\n",
       "    </tr>\n",
       "    <tr>\n",
       "      <th>giaoduc</th>\n",
       "      <td>4</td>\n",
       "      <td>2</td>\n",
       "      <td>1201</td>\n",
       "      <td>15</td>\n",
       "      <td>7</td>\n",
       "      <td>0</td>\n",
       "      <td>4</td>\n",
       "      <td>10</td>\n",
       "      <td>6</td>\n",
       "      <td>3</td>\n",
       "      <td>13</td>\n",
       "      <td>1265</td>\n",
       "    </tr>\n",
       "    <tr>\n",
       "      <th>khoahoc</th>\n",
       "      <td>8</td>\n",
       "      <td>2</td>\n",
       "      <td>7</td>\n",
       "      <td>1219</td>\n",
       "      <td>8</td>\n",
       "      <td>8</td>\n",
       "      <td>1</td>\n",
       "      <td>3</td>\n",
       "      <td>16</td>\n",
       "      <td>0</td>\n",
       "      <td>8</td>\n",
       "      <td>1280</td>\n",
       "    </tr>\n",
       "    <tr>\n",
       "      <th>kinhdoanh</th>\n",
       "      <td>14</td>\n",
       "      <td>4</td>\n",
       "      <td>4</td>\n",
       "      <td>2</td>\n",
       "      <td>1286</td>\n",
       "      <td>4</td>\n",
       "      <td>9</td>\n",
       "      <td>21</td>\n",
       "      <td>4</td>\n",
       "      <td>2</td>\n",
       "      <td>52</td>\n",
       "      <td>1402</td>\n",
       "    </tr>\n",
       "    <tr>\n",
       "      <th>otoxemay</th>\n",
       "      <td>3</td>\n",
       "      <td>0</td>\n",
       "      <td>4</td>\n",
       "      <td>3</td>\n",
       "      <td>7</td>\n",
       "      <td>1239</td>\n",
       "      <td>6</td>\n",
       "      <td>1</td>\n",
       "      <td>3</td>\n",
       "      <td>2</td>\n",
       "      <td>1</td>\n",
       "      <td>1269</td>\n",
       "    </tr>\n",
       "    <tr>\n",
       "      <th>phapluat</th>\n",
       "      <td>3</td>\n",
       "      <td>0</td>\n",
       "      <td>10</td>\n",
       "      <td>1</td>\n",
       "      <td>9</td>\n",
       "      <td>11</td>\n",
       "      <td>1273</td>\n",
       "      <td>1</td>\n",
       "      <td>1</td>\n",
       "      <td>0</td>\n",
       "      <td>37</td>\n",
       "      <td>1346</td>\n",
       "    </tr>\n",
       "    <tr>\n",
       "      <th>sohoa</th>\n",
       "      <td>6</td>\n",
       "      <td>9</td>\n",
       "      <td>11</td>\n",
       "      <td>12</td>\n",
       "      <td>21</td>\n",
       "      <td>1</td>\n",
       "      <td>0</td>\n",
       "      <td>1120</td>\n",
       "      <td>12</td>\n",
       "      <td>4</td>\n",
       "      <td>1</td>\n",
       "      <td>1197</td>\n",
       "    </tr>\n",
       "    <tr>\n",
       "      <th>thegioi</th>\n",
       "      <td>12</td>\n",
       "      <td>10</td>\n",
       "      <td>7</td>\n",
       "      <td>23</td>\n",
       "      <td>11</td>\n",
       "      <td>5</td>\n",
       "      <td>6</td>\n",
       "      <td>5</td>\n",
       "      <td>1267</td>\n",
       "      <td>4</td>\n",
       "      <td>4</td>\n",
       "      <td>1354</td>\n",
       "    </tr>\n",
       "    <tr>\n",
       "      <th>thethao</th>\n",
       "      <td>2</td>\n",
       "      <td>3</td>\n",
       "      <td>0</td>\n",
       "      <td>0</td>\n",
       "      <td>0</td>\n",
       "      <td>1</td>\n",
       "      <td>2</td>\n",
       "      <td>0</td>\n",
       "      <td>1</td>\n",
       "      <td>1377</td>\n",
       "      <td>2</td>\n",
       "      <td>1388</td>\n",
       "    </tr>\n",
       "    <tr>\n",
       "      <th>thoisu</th>\n",
       "      <td>21</td>\n",
       "      <td>3</td>\n",
       "      <td>13</td>\n",
       "      <td>8</td>\n",
       "      <td>26</td>\n",
       "      <td>6</td>\n",
       "      <td>38</td>\n",
       "      <td>2</td>\n",
       "      <td>5</td>\n",
       "      <td>0</td>\n",
       "      <td>1099</td>\n",
       "      <td>1221</td>\n",
       "    </tr>\n",
       "    <tr>\n",
       "      <th>All</th>\n",
       "      <td>1160</td>\n",
       "      <td>1386</td>\n",
       "      <td>1274</td>\n",
       "      <td>1301</td>\n",
       "      <td>1384</td>\n",
       "      <td>1278</td>\n",
       "      <td>1344</td>\n",
       "      <td>1164</td>\n",
       "      <td>1328</td>\n",
       "      <td>1394</td>\n",
       "      <td>1234</td>\n",
       "      <td>14247</td>\n",
       "    </tr>\n",
       "  </tbody>\n",
       "</table>\n",
       "</div>"
      ],
      "text/plain": [
       "Predicted  dulich  giaitri  giaoduc  khoahoc  kinhdoanh  otoxemay  phapluat  \\\n",
       "Actual                                                                        \n",
       "dulich       1084        8       13       17          7         3         4   \n",
       "giaitri         3     1345        4        1          2         0         1   \n",
       "giaoduc         4        2     1201       15          7         0         4   \n",
       "khoahoc         8        2        7     1219          8         8         1   \n",
       "kinhdoanh      14        4        4        2       1286         4         9   \n",
       "otoxemay        3        0        4        3          7      1239         6   \n",
       "phapluat        3        0       10        1          9        11      1273   \n",
       "sohoa           6        9       11       12         21         1         0   \n",
       "thegioi        12       10        7       23         11         5         6   \n",
       "thethao         2        3        0        0          0         1         2   \n",
       "thoisu         21        3       13        8         26         6        38   \n",
       "All          1160     1386     1274     1301       1384      1278      1344   \n",
       "\n",
       "Predicted  sohoa  thegioi  thethao  thoisu    All  \n",
       "Actual                                             \n",
       "dulich         1        9        1      14   1161  \n",
       "giaitri        0        4        1       3   1364  \n",
       "giaoduc       10        6        3      13   1265  \n",
       "khoahoc        3       16        0       8   1280  \n",
       "kinhdoanh     21        4        2      52   1402  \n",
       "otoxemay       1        3        2       1   1269  \n",
       "phapluat       1        1        0      37   1346  \n",
       "sohoa       1120       12        4       1   1197  \n",
       "thegioi        5     1267        4       4   1354  \n",
       "thethao        0        1     1377       2   1388  \n",
       "thoisu         2        5        0    1099   1221  \n",
       "All         1164     1328     1394    1234  14247  "
      ]
     },
     "execution_count": 24,
     "metadata": {},
     "output_type": "execute_result"
    }
   ],
   "source": [
    "df_confusion = pd.crosstab(testing_label, predicted_result, rownames=['Actual'], colnames=['Predicted'], margins=True)\n",
    "df_confusion"
   ]
  },
  {
   "cell_type": "markdown",
   "metadata": {},
   "source": [
    "## Dimensionality reduction classification"
   ]
  },
  {
   "cell_type": "markdown",
   "metadata": {},
   "source": [
    "## Dimensionality Reduction"
   ]
  },
  {
   "cell_type": "code",
   "execution_count": null,
   "metadata": {
    "collapsed": false
   },
   "outputs": [],
   "source": [
    "from sklearn import (manifold, datasets, decomposition, ensemble,discriminant_analysis, random_projection)\n",
    "reducer = decomposition.TruncatedSVD(n_components = 10000)\n",
    "reducer.fit(training_matrix)"
   ]
  },
  {
   "cell_type": "code",
   "execution_count": null,
   "metadata": {
    "collapsed": true
   },
   "outputs": [],
   "source": [
    "training_vector_reduce = reducer.transform(training_matrix)\n",
    "testing_vector_reduce = reducer.transform(testing_matrix)"
   ]
  },
  {
   "cell_type": "code",
   "execution_count": null,
   "metadata": {
    "collapsed": false
   },
   "outputs": [],
   "source": [
    "t0 = time()\n",
    "logreg = linear_model.LogisticRegression(C=10000)\n",
    "logreg.fit(training_vector_reduce,training_label)\n",
    "print('Logistic Regression time:',time()-t0)"
   ]
  },
  {
   "cell_type": "code",
   "execution_count": null,
   "metadata": {
    "collapsed": false
   },
   "outputs": [],
   "source": [
    "t0 = time()\n",
    "predicted_result = logreg.predict(testing_vector_reduce)\n",
    "print(\"testing time:\", time()-t0)\n",
    "print(metrics.classification_report(testing_label, predicted_result))"
   ]
  }
 ],
 "metadata": {
  "anaconda-cloud": {},
  "kernelspec": {
   "display_name": "Python [default]",
   "language": "python",
   "name": "python3"
  },
  "language_info": {
   "codemirror_mode": {
    "name": "ipython",
    "version": 3
   },
   "file_extension": ".py",
   "mimetype": "text/x-python",
   "name": "python",
   "nbconvert_exporter": "python",
   "pygments_lexer": "ipython3",
   "version": "3.5.2"
  }
 },
 "nbformat": 4,
 "nbformat_minor": 1
}
