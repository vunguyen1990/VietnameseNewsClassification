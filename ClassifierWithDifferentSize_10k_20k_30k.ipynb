{
 "cells": [
  {
   "cell_type": "code",
   "execution_count": 3,
   "metadata": {
    "collapsed": true
   },
   "outputs": [],
   "source": [
    "import LogicalRegression\n",
    "import pandas as pd\n",
    "import os"
   ]
  },
  {
   "cell_type": "code",
   "execution_count": null,
   "metadata": {
    "collapsed": true
   },
   "outputs": [],
   "source": []
  },
  {
   "cell_type": "code",
   "execution_count": 14,
   "metadata": {
    "collapsed": true
   },
   "outputs": [],
   "source": [
    "import os\n",
    "import pandas as pd\n",
    "from sklearn.feature_extraction.text import TfidfVectorizer\n",
    "import random\n",
    "import numpy as np\n",
    "from sklearn import linear_model\n",
    "from time import time\n",
    "from sklearn.model_selection import train_test_split\n",
    "from sklearn import svm,metrics,model_selection\n",
    "def logistic_regression(sample_size,data_df):\n",
    "\n",
    "    result = dict()\n",
    "    result_time = dict()\n",
    "\n",
    "    sample_df = data_df.sample(sample_size)\n",
    "    train, test = train_test_split(sample_df, test_size = 0.3)\n",
    "    print(\"training:%d -  testing: %d \\n\"%(len(train),len(test)))\n",
    "\n",
    "\n",
    "    # In[25]:\n",
    "\n",
    "    training_data = train.data\n",
    "    training_label = train.category\n",
    "    testing_data = test.data\n",
    "    testing_label = test.category\n",
    "\n",
    "\n",
    "    # ## Fitting tf-idf model\n",
    "\n",
    "    # In[26]:\n",
    "\n",
    "    t0 = time()\n",
    "    vectorizer = TfidfVectorizer(norm='l2', max_df=0.5,smooth_idf=True)\n",
    "    vectorizer.fit(training_data)\n",
    "    print(\"tf-idf learning time:\", time() - t0)\n",
    "    result_time['tf_idf'] = time() - t0\n",
    "\n",
    "    # In[27]:\n",
    "\n",
    "    result['vectorizer'] = vectorizer\n",
    "\n",
    "\n",
    "    # ## Extracting features for training and testing data\n",
    "\n",
    "    # In[28]:\n",
    "\n",
    "    t0 = time()\n",
    "    training_matrix = vectorizer.transform(training_data)\n",
    "    testing_matrix = vectorizer.transform(testing_data)\n",
    "    print(\"feature extraction time of training and testing dataset:\", time() - t0)\n",
    "    result_time['feature_extraction'] = time() - t0\n",
    "\n",
    "    # In[29]:\n",
    "\n",
    "    print('training',training_matrix.shape)\n",
    "    print('testing',testing_matrix.shape)\n",
    "\n",
    "\n",
    "    # In[30]:\n",
    "\n",
    "    training_vector = training_matrix.toarray()\n",
    "    testing_vector = testing_matrix.toarray()\n",
    "    result['vector_size'] = len(training_vector[0])\n",
    "\n",
    "\n",
    "    # ## Classification by Logistic Regression of Scikit Learn\n",
    "\n",
    "    # In[31]:\n",
    "\n",
    "    t0 = time()\n",
    "    logreg = linear_model.LogisticRegression(C=1e5)\n",
    "    logreg.fit(training_vector,training_label)\n",
    "    print('Logistic Regression time:',time()-t0)\n",
    "    result_time['training_classifer'] = time() - t0\n",
    "\n",
    "\n",
    "    # In[32]:\n",
    "\n",
    "    t0 = time()\n",
    "    predicted_result = logreg.predict(testing_vector)\n",
    "    print(\"testing time:\", time()-t0)\n",
    "    result_time['test_classifier'] = time() - t0\n",
    "\n",
    "    print(metrics.classification_report(testing_label, predicted_result))\n",
    "    result['time_consume'] = result_time\n",
    "    precision = np.mean(metrics.precision_recall_fscore_support(testing_label, predicted_result)[0])\n",
    "    recall = np.mean(metrics.precision_recall_fscore_support(testing_label, predicted_result)[1])\n",
    "    fscore = np.mean(metrics.precision_recall_fscore_support(testing_label, predicted_result)[2])\n",
    "    result['precision'] = precision\n",
    "    result['recall'] = recall\n",
    "    result['fscore'] = fscore\n",
    "    return result"
   ]
  },
  {
   "cell_type": "code",
   "execution_count": 6,
   "metadata": {
    "collapsed": false
   },
   "outputs": [],
   "source": [
    "dir_path = os.path.join(os.getcwd(), 'vnexpress')\n",
    "data = list()\n",
    "for directory in os.listdir(dir_path):\n",
    "#     print(directory)\n",
    "    if '.' not in directory:\n",
    "        list_file_path = os.path.join(dir_path, directory)\n",
    "        count = 0\n",
    "        for file_name in os.listdir(list_file_path):\n",
    "            data_dict = dict()\n",
    "            data_dict['category'] = directory\n",
    "            file_path = os.path.join(list_file_path, file_name)\n",
    "            file = open(file_path,'r')\n",
    "            data_dict['data'] = file.read()\n",
    "            data.append(data_dict)\n",
    "data_df = pd.DataFrame(data)"
   ]
  },
  {
   "cell_type": "code",
   "execution_count": 15,
   "metadata": {
    "collapsed": false
   },
   "outputs": [
    {
     "name": "stdout",
     "output_type": "stream",
     "text": [
      "training:3290 -  testing: 1410 \n",
      "\n",
      "tf-idf learning time: 1.1495180130004883\n",
      "feature extraction time of training and testing dataset: 1.8709089756011963\n",
      "training (3290, 36612)\n",
      "testing (1410, 36612)\n",
      "Logistic Regression time: 4.295353174209595\n",
      "testing time: 0.564985990524292\n",
      "             precision    recall  f1-score   support\n",
      "\n",
      "     dulich       0.93      0.91      0.92       116\n",
      "    giaitri       0.95      0.97      0.96       157\n",
      "    giaoduc       0.94      0.95      0.94       111\n",
      "    khoahoc       0.89      0.95      0.92       123\n",
      "  kinhdoanh       0.89      0.87      0.88       149\n",
      "   otoxemay       0.95      0.93      0.94       111\n",
      "   phapluat       0.95      0.90      0.92       145\n",
      "      sohoa       0.97      0.93      0.95       125\n",
      "    thegioi       0.89      0.87      0.88       111\n",
      "    thethao       0.99      0.99      0.99       146\n",
      "     thoisu       0.79      0.86      0.83       116\n",
      "\n",
      "avg / total       0.92      0.92      0.92      1410\n",
      "\n"
     ]
    }
   ],
   "source": [
    "result = logistic_regression(4700,data_df)"
   ]
  },
  {
   "cell_type": "code",
   "execution_count": 7,
   "metadata": {
    "collapsed": false
   },
   "outputs": [
    {
     "name": "stdout",
     "output_type": "stream",
     "text": [
      "training:3290 -  testing: 1410 \n",
      "\n",
      "tf-idf learning time: 1.451620101928711\n",
      "feature extraction time of training and testing dataset: 2.1439950466156006\n",
      "training (3290, 37450)\n",
      "testing (1410, 37450)\n",
      "Logistic Regression time: 5.4963860511779785\n",
      "testing time: 0.7751259803771973\n",
      "             precision    recall  f1-score   support\n",
      "\n",
      "     dulich       0.88      0.91      0.89       111\n",
      "    giaitri       0.94      0.98      0.96       135\n",
      "    giaoduc       0.94      0.94      0.94       118\n",
      "    khoahoc       0.89      0.92      0.90       117\n",
      "  kinhdoanh       0.88      0.91      0.89       142\n",
      "   otoxemay       0.98      0.95      0.96       137\n",
      "   phapluat       0.91      0.91      0.91       128\n",
      "      sohoa       0.95      0.94      0.94       125\n",
      "    thegioi       0.97      0.91      0.94       162\n",
      "    thethao       1.00      0.98      0.99       125\n",
      "     thoisu       0.84      0.84      0.84       110\n",
      "\n",
      "avg / total       0.93      0.93      0.93      1410\n",
      "\n"
     ]
    }
   ],
   "source": [
    "result = LogicalRegression.logistic_regression(4700,data_df)"
   ]
  },
  {
   "cell_type": "code",
   "execution_count": 4,
   "metadata": {
    "collapsed": false
   },
   "outputs": [
    {
     "name": "stdout",
     "output_type": "stream",
     "text": [
      "training:7000 -  testing: 3000 \n",
      "\n",
      "tf-idf learning time: 3.1817550659179688\n",
      "feature extraction time of training and testing dataset: 4.696054935455322\n",
      "training (7000, 56983)\n",
      "testing (3000, 56983)\n",
      "Logistic Regression time: 21.166918992996216\n",
      "testing time: 5.821752071380615\n",
      "             precision    recall  f1-score   support\n",
      "\n",
      "     dulich       0.95      0.95      0.95       239\n",
      "    giaitri       0.96      0.97      0.97       269\n",
      "    giaoduc       0.94      0.91      0.92       265\n",
      "    khoahoc       0.93      0.94      0.93       306\n",
      "  kinhdoanh       0.92      0.93      0.93       302\n",
      "   otoxemay       0.97      0.97      0.97       260\n",
      "   phapluat       0.97      0.94      0.95       275\n",
      "      sohoa       0.94      0.93      0.94       243\n",
      "    thegioi       0.94      0.97      0.96       264\n",
      "    thethao       0.99      0.98      0.99       330\n",
      "     thoisu       0.89      0.89      0.89       247\n",
      "\n",
      "avg / total       0.95      0.95      0.95      3000\n",
      "\n"
     ]
    }
   ],
   "source": [
    "result = LogicalRegression.logistic_regression(10000,data_df)"
   ]
  },
  {
   "cell_type": "code",
   "execution_count": 5,
   "metadata": {
    "collapsed": false
   },
   "outputs": [
    {
     "name": "stdout",
     "output_type": "stream",
     "text": [
      "training:14000 -  testing: 6000 \n",
      "\n",
      "tf-idf learning time: 5.881694078445435\n",
      "feature extraction time of training and testing dataset: 9.725466012954712\n",
      "training (14000, 83842)\n",
      "testing (6000, 83842)\n",
      "Logistic Regression time: 45.210561990737915\n",
      "testing time: 11.244800090789795\n",
      "             precision    recall  f1-score   support\n",
      "\n",
      "     dulich       0.95      0.94      0.95       509\n",
      "    giaitri       0.98      0.99      0.98       559\n",
      "    giaoduc       0.94      0.95      0.94       519\n",
      "    khoahoc       0.92      0.96      0.94       557\n",
      "  kinhdoanh       0.94      0.94      0.94       576\n",
      "   otoxemay       0.99      0.98      0.98       541\n",
      "   phapluat       0.96      0.95      0.96       588\n",
      "      sohoa       0.97      0.96      0.97       508\n",
      "    thegioi       0.96      0.95      0.95       539\n",
      "    thethao       0.99      0.99      0.99       588\n",
      "     thoisu       0.90      0.89      0.90       516\n",
      "\n",
      "avg / total       0.96      0.96      0.96      6000\n",
      "\n"
     ]
    }
   ],
   "source": [
    "result = LogicalRegression.logistic_regression(20000,data_df)"
   ]
  },
  {
   "cell_type": "code",
   "execution_count": 6,
   "metadata": {
    "collapsed": false
   },
   "outputs": [
    {
     "name": "stdout",
     "output_type": "stream",
     "text": [
      "training:21000 -  testing: 9000 \n",
      "\n",
      "tf-idf learning time: 8.632855892181396\n",
      "feature extraction time of training and testing dataset: 13.034363985061646\n",
      "training (21000, 105375)\n",
      "testing (9000, 105375)\n",
      "Logistic Regression time: 66.6087281703949\n",
      "testing time: 20.7355740070343\n",
      "             precision    recall  f1-score   support\n",
      "\n",
      "     dulich       0.96      0.95      0.95       727\n",
      "    giaitri       0.98      0.99      0.99       872\n",
      "    giaoduc       0.95      0.96      0.95       761\n",
      "    khoahoc       0.95      0.96      0.95       831\n",
      "  kinhdoanh       0.95      0.96      0.95       843\n",
      "   otoxemay       0.99      0.98      0.98       824\n",
      "   phapluat       0.95      0.95      0.95       854\n",
      "      sohoa       0.98      0.96      0.97       778\n",
      "    thegioi       0.97      0.96      0.96       892\n",
      "    thethao       0.99      1.00      1.00       865\n",
      "     thoisu       0.91      0.91      0.91       753\n",
      "\n",
      "avg / total       0.96      0.96      0.96      9000\n",
      "\n"
     ]
    }
   ],
   "source": [
    "result = LogicalRegression.logistic_regression(30000,data_df)"
   ]
  }
 ],
 "metadata": {
  "anaconda-cloud": {},
  "kernelspec": {
   "display_name": "Python [default]",
   "language": "python",
   "name": "python3"
  },
  "language_info": {
   "codemirror_mode": {
    "name": "ipython",
    "version": 3
   },
   "file_extension": ".py",
   "mimetype": "text/x-python",
   "name": "python",
   "nbconvert_exporter": "python",
   "pygments_lexer": "ipython3",
   "version": "3.5.2"
  }
 },
 "nbformat": 4,
 "nbformat_minor": 1
}
